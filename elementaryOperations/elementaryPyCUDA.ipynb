{
  "nbformat": 4,
  "nbformat_minor": 0,
  "metadata": {
    "colab": {
      "name": "elementaryPyCUDA.ipynb",
      "provenance": [],
      "collapsed_sections": []
    },
    "kernelspec": {
      "name": "python3",
      "display_name": "Python 3"
    },
    "language_info": {
      "name": "python"
    },
    "accelerator": "GPU"
  },
  "cells": [
    {
      "cell_type": "markdown",
      "source": [
        "Further information at: https://documen.tician.de/pycuda/array.html"
      ],
      "metadata": {
        "id": "FHQ7Y5b-W9kO"
      }
    },
    {
      "cell_type": "code",
      "execution_count": 1,
      "metadata": {
        "colab": {
          "base_uri": "https://localhost:8080/"
        },
        "id": "62JvfLC5t34e",
        "outputId": "5c258d10-693f-461b-fb5e-70bca252105c"
      },
      "outputs": [
        {
          "output_type": "stream",
          "name": "stdout",
          "text": [
            "Looking in indexes: https://pypi.org/simple, https://us-python.pkg.dev/colab-wheels/public/simple/\n",
            "Collecting pycuda\n",
            "  Downloading pycuda-2021.1.tar.gz (1.7 MB)\n",
            "\u001b[K     |████████████████████████████████| 1.7 MB 5.0 MB/s \n",
            "\u001b[?25h  Installing build dependencies ... \u001b[?25l\u001b[?25hdone\n",
            "  Getting requirements to build wheel ... \u001b[?25l\u001b[?25hdone\n",
            "    Preparing wheel metadata ... \u001b[?25l\u001b[?25hdone\n",
            "Collecting pytools>=2011.2\n",
            "  Downloading pytools-2022.1.9.tar.gz (69 kB)\n",
            "\u001b[K     |████████████████████████████████| 69 kB 9.8 MB/s \n",
            "\u001b[?25hCollecting mako\n",
            "  Downloading Mako-1.2.0-py3-none-any.whl (78 kB)\n",
            "\u001b[K     |████████████████████████████████| 78 kB 8.3 MB/s \n",
            "\u001b[?25hRequirement already satisfied: appdirs>=1.4.0 in /usr/local/lib/python3.7/dist-packages (from pycuda) (1.4.4)\n",
            "Collecting platformdirs>=2.2.0\n",
            "  Downloading platformdirs-2.5.2-py3-none-any.whl (14 kB)\n",
            "Requirement already satisfied: typing_extensions>=4.0 in /usr/local/lib/python3.7/dist-packages (from pytools>=2011.2->pycuda) (4.2.0)\n",
            "Requirement already satisfied: MarkupSafe>=0.9.2 in /usr/local/lib/python3.7/dist-packages (from mako->pycuda) (2.0.1)\n",
            "Requirement already satisfied: importlib-metadata in /usr/local/lib/python3.7/dist-packages (from mako->pycuda) (4.11.4)\n",
            "Requirement already satisfied: zipp>=0.5 in /usr/local/lib/python3.7/dist-packages (from importlib-metadata->mako->pycuda) (3.8.0)\n",
            "Building wheels for collected packages: pycuda, pytools\n",
            "  Building wheel for pycuda (PEP 517) ... \u001b[?25l\u001b[?25hdone\n",
            "  Created wheel for pycuda: filename=pycuda-2021.1-cp37-cp37m-linux_x86_64.whl size=626634 sha256=fc864e235327aacfcfd752bb81d9cd7eb7baa6510a374a84f2a83bcfa2328bee\n",
            "  Stored in directory: /root/.cache/pip/wheels/c4/ef/49/dc6a5feb8d980b37c83d465ecab24949a6aa19458522a9e001\n",
            "  Building wheel for pytools (setup.py) ... \u001b[?25l\u001b[?25hdone\n",
            "  Created wheel for pytools: filename=pytools-2022.1.9-py2.py3-none-any.whl size=64666 sha256=ade763119a1ea17748bcdfc51fe826c10d45a93c51a5af16054c4fa46df50a94\n",
            "  Stored in directory: /root/.cache/pip/wheels/11/d8/85/01a8cf50977badf2da880865124b159b112b861655a9b631d3\n",
            "Successfully built pycuda pytools\n",
            "Installing collected packages: platformdirs, pytools, mako, pycuda\n",
            "Successfully installed mako-1.2.0 platformdirs-2.5.2 pycuda-2021.1 pytools-2022.1.9\n"
          ]
        }
      ],
      "source": [
        "!pip install pycuda"
      ]
    },
    {
      "cell_type": "code",
      "source": [
        "import numpy as np"
      ],
      "metadata": {
        "id": "lfg-PIo-u8SZ"
      },
      "execution_count": 2,
      "outputs": []
    },
    {
      "cell_type": "code",
      "source": [
        "import pycuda.autoinit\n",
        "import pycuda.gpuarray as gpuarray\n",
        "import pycuda.cumath"
      ],
      "metadata": {
        "id": "0_8U24UqupRa"
      },
      "execution_count": 3,
      "outputs": []
    },
    {
      "cell_type": "code",
      "source": [
        "h_x = np.zeros((32, 32), dtype = np.float32)\n",
        "h_x[0, 0] = 11\n",
        "h_x[2, 31] = -4\n",
        "\n",
        "d_x = pycuda.gpuarray.to_gpu(h_x)\n",
        "\n",
        "h_y = d_x.get()\n",
        "print(h_y)"
      ],
      "metadata": {
        "colab": {
          "base_uri": "https://localhost:8080/"
        },
        "id": "kDB4SxnIWH96",
        "outputId": "e2d62e7e-88ce-4c80-f695-082eaeaca624"
      },
      "execution_count": 4,
      "outputs": [
        {
          "output_type": "stream",
          "name": "stdout",
          "text": [
            "[[11.  0.  0. ...  0.  0.  0.]\n",
            " [ 0.  0.  0. ...  0.  0.  0.]\n",
            " [ 0.  0.  0. ...  0.  0. -4.]\n",
            " ...\n",
            " [ 0.  0.  0. ...  0.  0.  0.]\n",
            " [ 0.  0.  0. ...  0.  0.  0.]\n",
            " [ 0.  0.  0. ...  0.  0.  0.]]\n"
          ]
        }
      ]
    },
    {
      "cell_type": "code",
      "source": [
        "d_x = gpuarray.zeros((32, 32), np.float32)\n",
        "print(d_x)\n",
        "\n",
        "d_y = gpuarray.empty((32, 32), np.float32)\n",
        "print(d_y)\n",
        "\n",
        "d_z = gpuarray.empty_like(d_x)\n",
        "print(d_z)\n",
        "\n",
        "d_w = gpuarray.zeros_like(d_x)\n",
        "print(d_w)\n",
        "\n",
        "d_h = gpuarray.ones_like(d_x)\n",
        "print(d_h)\n",
        "\n",
        "d_g = pycuda.gpuarray.arange(0, 10, 0.1, dtype = np.float32)\n",
        "print(d_g)\n",
        "\n",
        "d_w = d_w.fill(3)\n",
        "print(d_w)"
      ],
      "metadata": {
        "colab": {
          "base_uri": "https://localhost:8080/"
        },
        "id": "_pUzc-yAgx8H",
        "outputId": "91e72c0c-b88a-4ca4-8d63-6495276d40e8"
      },
      "execution_count": 5,
      "outputs": [
        {
          "output_type": "stream",
          "name": "stdout",
          "text": [
            "[[0. 0. 0. ... 0. 0. 0.]\n",
            " [0. 0. 0. ... 0. 0. 0.]\n",
            " [0. 0. 0. ... 0. 0. 0.]\n",
            " ...\n",
            " [0. 0. 0. ... 0. 0. 0.]\n",
            " [0. 0. 0. ... 0. 0. 0.]\n",
            " [0. 0. 0. ... 0. 0. 0.]]\n",
            "[[0. 0. 0. ... 0. 0. 0.]\n",
            " [0. 0. 0. ... 0. 0. 0.]\n",
            " [0. 0. 0. ... 0. 0. 0.]\n",
            " ...\n",
            " [0. 0. 0. ... 0. 0. 0.]\n",
            " [0. 0. 0. ... 0. 0. 0.]\n",
            " [0. 0. 0. ... 0. 0. 0.]]\n",
            "[[0. 0. 0. ... 0. 0. 0.]\n",
            " [0. 0. 0. ... 0. 0. 0.]\n",
            " [0. 0. 0. ... 0. 0. 0.]\n",
            " ...\n",
            " [0. 0. 0. ... 0. 0. 0.]\n",
            " [0. 0. 0. ... 0. 0. 0.]\n",
            " [0. 0. 0. ... 0. 0. 0.]]\n",
            "[[0. 0. 0. ... 0. 0. 0.]\n",
            " [0. 0. 0. ... 0. 0. 0.]\n",
            " [0. 0. 0. ... 0. 0. 0.]\n",
            " ...\n",
            " [0. 0. 0. ... 0. 0. 0.]\n",
            " [0. 0. 0. ... 0. 0. 0.]\n",
            " [0. 0. 0. ... 0. 0. 0.]]\n",
            "[[1. 1. 1. ... 1. 1. 1.]\n",
            " [1. 1. 1. ... 1. 1. 1.]\n",
            " [1. 1. 1. ... 1. 1. 1.]\n",
            " ...\n",
            " [1. 1. 1. ... 1. 1. 1.]\n",
            " [1. 1. 1. ... 1. 1. 1.]\n",
            " [1. 1. 1. ... 1. 1. 1.]]\n",
            "[0.         0.1        0.2        0.3        0.4        0.5\n",
            " 0.6        0.7        0.8        0.90000004 1.         1.1\n",
            " 1.2        1.3000001  1.4        1.5        1.6        1.7\n",
            " 1.8000001  1.9        2.         2.1000001  2.2        2.3\n",
            " 2.4        2.5        2.6000001  2.7        2.8        2.9\n",
            " 3.         3.1000001  3.2        3.3        3.4        3.5\n",
            " 3.6000001  3.7        3.8        3.9        4.         4.1\n",
            " 4.2000003  4.3        4.4        4.5        4.6        4.7000003\n",
            " 4.8        4.9        5.         5.1        5.2000003  5.3\n",
            " 5.4        5.5        5.6        5.7000003  5.8        5.9\n",
            " 6.         6.1        6.2000003  6.3        6.4        6.5\n",
            " 6.6        6.7000003  6.8        6.9        7.         7.1\n",
            " 7.2000003  7.3        7.4        7.5        7.6        7.7000003\n",
            " 7.8        7.9        8.         8.1        8.2        8.3\n",
            " 8.400001   8.5        8.6        8.7        8.8        8.900001\n",
            " 9.         9.1        9.2        9.3        9.400001   9.5\n",
            " 9.6        9.7        9.8        9.900001  ]\n",
            "[[3. 3. 3. ... 3. 3. 3.]\n",
            " [3. 3. 3. ... 3. 3. 3.]\n",
            " [3. 3. 3. ... 3. 3. 3.]\n",
            " ...\n",
            " [3. 3. 3. ... 3. 3. 3.]\n",
            " [3. 3. 3. ... 3. 3. 3.]\n",
            " [3. 3. 3. ... 3. 3. 3.]]\n"
          ]
        }
      ]
    },
    {
      "cell_type": "markdown",
      "source": [
        "We do not have ```gpuarray.ones```, but we do have ```gpuarray.zeros``` and ```gpuarray.ones_like```. We try first ```gpuarray.zeros``` with single precision elements and add elementwise $1$.\n",
        "\n"
      ],
      "metadata": {
        "id": "hWc6BlsUEsup"
      }
    },
    {
      "cell_type": "code",
      "source": [
        "d_x = 1 + gpuarray.zeros((32, 32), np.float32)\n",
        "print(d_x)"
      ],
      "metadata": {
        "colab": {
          "base_uri": "https://localhost:8080/"
        },
        "id": "Beb21YG_uwDA",
        "outputId": "acc6a67a-6c37-42e9-8908-eae648a283d9"
      },
      "execution_count": 23,
      "outputs": [
        {
          "output_type": "stream",
          "name": "stdout",
          "text": [
            "[[1. 1. 1. ... 1. 1. 1.]\n",
            " [1. 1. 1. ... 1. 1. 1.]\n",
            " [1. 1. 1. ... 1. 1. 1.]\n",
            " ...\n",
            " [1. 1. 1. ... 1. 1. 1.]\n",
            " [1. 1. 1. ... 1. 1. 1.]\n",
            " [1. 1. 1. ... 1. 1. 1.]]\n"
          ]
        }
      ]
    },
    {
      "cell_type": "markdown",
      "source": [
        "Now we make elementwise operations:"
      ],
      "metadata": {
        "id": "_r6KE_GeFSKx"
      }
    },
    {
      "cell_type": "code",
      "source": [
        "d_y = np.float32(3) * gpuarray.ones_like(d_x, np.float32)\n",
        "\n",
        "d_z = d_y * pycuda.cumath.exp(1j * np.pi * d_x)\n",
        "\n",
        "print(d_z)"
      ],
      "metadata": {
        "colab": {
          "base_uri": "https://localhost:8080/"
        },
        "id": "lOVe-omHEfBP",
        "outputId": "9b77ed75-53ff-4167-bbf8-c8e77277c486"
      },
      "execution_count": 7,
      "outputs": [
        {
          "output_type": "stream",
          "name": "stdout",
          "text": [
            "[[-3.-2.6226832e-07j -3.-2.6226832e-07j -3.-2.6226832e-07j ...\n",
            "  -3.-2.6226832e-07j -3.-2.6226832e-07j -3.-2.6226832e-07j]\n",
            " [-3.-2.6226832e-07j -3.-2.6226832e-07j -3.-2.6226832e-07j ...\n",
            "  -3.-2.6226832e-07j -3.-2.6226832e-07j -3.-2.6226832e-07j]\n",
            " [-3.-2.6226832e-07j -3.-2.6226832e-07j -3.-2.6226832e-07j ...\n",
            "  -3.-2.6226832e-07j -3.-2.6226832e-07j -3.-2.6226832e-07j]\n",
            " ...\n",
            " [-3.-2.6226832e-07j -3.-2.6226832e-07j -3.-2.6226832e-07j ...\n",
            "  -3.-2.6226832e-07j -3.-2.6226832e-07j -3.-2.6226832e-07j]\n",
            " [-3.-2.6226832e-07j -3.-2.6226832e-07j -3.-2.6226832e-07j ...\n",
            "  -3.-2.6226832e-07j -3.-2.6226832e-07j -3.-2.6226832e-07j]\n",
            " [-3.-2.6226832e-07j -3.-2.6226832e-07j -3.-2.6226832e-07j ...\n",
            "  -3.-2.6226832e-07j -3.-2.6226832e-07j -3.-2.6226832e-07j]]\n"
          ]
        }
      ]
    },
    {
      "cell_type": "markdown",
      "source": [
        "Complex numbers manipulations. Taking real and imaginary parts. "
      ],
      "metadata": {
        "id": "uZeGF5v8HL0Y"
      }
    },
    {
      "cell_type": "code",
      "source": [
        "d_y_real = d_y.real\n",
        "d_y_imag = d_y.imag\n",
        "\n",
        "print(d_y_real)\n",
        "print(d_y_imag)\n",
        "\n",
        "d_y = 1j * d_y\n",
        "print(d_y)\n",
        "\n",
        "d_y.conj(d_y)\n",
        "# d_y = d_y.conj()\n",
        "print(d_y)"
      ],
      "metadata": {
        "id": "TUuyUaRXHKV_",
        "colab": {
          "base_uri": "https://localhost:8080/"
        },
        "outputId": "36d1d176-9564-45ae-a7fd-fac42e0284d0"
      },
      "execution_count": 8,
      "outputs": [
        {
          "output_type": "stream",
          "name": "stdout",
          "text": [
            "[[3. 3. 3. ... 3. 3. 3.]\n",
            " [3. 3. 3. ... 3. 3. 3.]\n",
            " [3. 3. 3. ... 3. 3. 3.]\n",
            " ...\n",
            " [3. 3. 3. ... 3. 3. 3.]\n",
            " [3. 3. 3. ... 3. 3. 3.]\n",
            " [3. 3. 3. ... 3. 3. 3.]]\n",
            "[[0. 0. 0. ... 0. 0. 0.]\n",
            " [0. 0. 0. ... 0. 0. 0.]\n",
            " [0. 0. 0. ... 0. 0. 0.]\n",
            " ...\n",
            " [0. 0. 0. ... 0. 0. 0.]\n",
            " [0. 0. 0. ... 0. 0. 0.]\n",
            " [0. 0. 0. ... 0. 0. 0.]]\n",
            "[[0.+3.j 0.+3.j 0.+3.j ... 0.+3.j 0.+3.j 0.+3.j]\n",
            " [0.+3.j 0.+3.j 0.+3.j ... 0.+3.j 0.+3.j 0.+3.j]\n",
            " [0.+3.j 0.+3.j 0.+3.j ... 0.+3.j 0.+3.j 0.+3.j]\n",
            " ...\n",
            " [0.+3.j 0.+3.j 0.+3.j ... 0.+3.j 0.+3.j 0.+3.j]\n",
            " [0.+3.j 0.+3.j 0.+3.j ... 0.+3.j 0.+3.j 0.+3.j]\n",
            " [0.+3.j 0.+3.j 0.+3.j ... 0.+3.j 0.+3.j 0.+3.j]]\n",
            "[[0.-3.j 0.-3.j 0.-3.j ... 0.-3.j 0.-3.j 0.-3.j]\n",
            " [0.-3.j 0.-3.j 0.-3.j ... 0.-3.j 0.-3.j 0.-3.j]\n",
            " [0.-3.j 0.-3.j 0.-3.j ... 0.-3.j 0.-3.j 0.-3.j]\n",
            " ...\n",
            " [0.-3.j 0.-3.j 0.-3.j ... 0.-3.j 0.-3.j 0.-3.j]\n",
            " [0.-3.j 0.-3.j 0.-3.j ... 0.-3.j 0.-3.j 0.-3.j]\n",
            " [0.-3.j 0.-3.j 0.-3.j ... 0.-3.j 0.-3.j 0.-3.j]]\n"
          ]
        }
      ]
    },
    {
      "cell_type": "markdown",
      "source": [
        "Computing the power of real and complex arrays."
      ],
      "metadata": {
        "id": "wb2kuuevTr6Q"
      }
    },
    {
      "cell_type": "code",
      "source": [
        "d_w     = d_y_real.__pow__(3)\n",
        "print(d_w.real)\n",
        "\n",
        "d_z     = pycuda.cumath.exp(1j * (np.pi / 2) * d_x)\n",
        "d_w     = d_z.__pow__(2)\n",
        "print(d_w)"
      ],
      "metadata": {
        "colab": {
          "base_uri": "https://localhost:8080/"
        },
        "id": "458nT2aETww5",
        "outputId": "4a7c3923-96d2-4fae-8f73-7fa7fd3fea5e"
      },
      "execution_count": 9,
      "outputs": [
        {
          "output_type": "stream",
          "name": "stdout",
          "text": [
            "[[27. 27. 27. ... 27. 27. 27.]\n",
            " [27. 27. 27. ... 27. 27. 27.]\n",
            " [27. 27. 27. ... 27. 27. 27.]\n",
            " ...\n",
            " [27. 27. 27. ... 27. 27. 27.]\n",
            " [27. 27. 27. ... 27. 27. 27.]\n",
            " [27. 27. 27. ... 27. 27. 27.]]\n",
            "[[-1.-8.742278e-08j -1.-8.742278e-08j -1.-8.742278e-08j ...\n",
            "  -1.-8.742278e-08j -1.-8.742278e-08j -1.-8.742278e-08j]\n",
            " [-1.-8.742278e-08j -1.-8.742278e-08j -1.-8.742278e-08j ...\n",
            "  -1.-8.742278e-08j -1.-8.742278e-08j -1.-8.742278e-08j]\n",
            " [-1.-8.742278e-08j -1.-8.742278e-08j -1.-8.742278e-08j ...\n",
            "  -1.-8.742278e-08j -1.-8.742278e-08j -1.-8.742278e-08j]\n",
            " ...\n",
            " [-1.-8.742278e-08j -1.-8.742278e-08j -1.-8.742278e-08j ...\n",
            "  -1.-8.742278e-08j -1.-8.742278e-08j -1.-8.742278e-08j]\n",
            " [-1.-8.742278e-08j -1.-8.742278e-08j -1.-8.742278e-08j ...\n",
            "  -1.-8.742278e-08j -1.-8.742278e-08j -1.-8.742278e-08j]\n",
            " [-1.-8.742278e-08j -1.-8.742278e-08j -1.-8.742278e-08j ...\n",
            "  -1.-8.742278e-08j -1.-8.742278e-08j -1.-8.742278e-08j]]\n"
          ]
        }
      ]
    },
    {
      "cell_type": "markdown",
      "source": [
        "Computing the ```abs``` of a complex array.\n",
        "\n"
      ],
      "metadata": {
        "id": "DImYrJagVfp6"
      }
    },
    {
      "cell_type": "code",
      "source": [
        "d_z     = (1 + 1j) * d_x\n",
        "d_w     = d_z.__abs__()\n",
        "print(d_w)"
      ],
      "metadata": {
        "colab": {
          "base_uri": "https://localhost:8080/"
        },
        "id": "pLg5n4yvVrGr",
        "outputId": "2709d009-9f96-4b5f-81a8-37ddea011082"
      },
      "execution_count": 10,
      "outputs": [
        {
          "output_type": "stream",
          "name": "stdout",
          "text": [
            "[[1.4142135 1.4142135 1.4142135 ... 1.4142135 1.4142135 1.4142135]\n",
            " [1.4142135 1.4142135 1.4142135 ... 1.4142135 1.4142135 1.4142135]\n",
            " [1.4142135 1.4142135 1.4142135 ... 1.4142135 1.4142135 1.4142135]\n",
            " ...\n",
            " [1.4142135 1.4142135 1.4142135 ... 1.4142135 1.4142135 1.4142135]\n",
            " [1.4142135 1.4142135 1.4142135 ... 1.4142135 1.4142135 1.4142135]\n",
            " [1.4142135 1.4142135 1.4142135 ... 1.4142135 1.4142135 1.4142135]]\n"
          ]
        }
      ]
    },
    {
      "cell_type": "markdown",
      "source": [
        "Trigonometric and hyperbolic trigonometric functions of complex arrays, fundamental mathematical functions of complex arrays."
      ],
      "metadata": {
        "id": "TgH38eyaXLtu"
      }
    },
    {
      "cell_type": "code",
      "source": [
        "d_z     = pycuda.cumath.sin((1 + 1j) * d_x)\n",
        "print(d_z)\n",
        "\n",
        "d_z     = pycuda.cumath.cos((1 + 1j) * d_x)\n",
        "print(d_z)\n",
        "\n",
        "d_z     = pycuda.cumath.tan((1 + 1j) * d_x)\n",
        "print(d_z)\n",
        "\n",
        "d_z     = pycuda.cumath.sinh((1 + 1j) * d_x)\n",
        "print(d_z)\n",
        "\n",
        "d_z     = pycuda.cumath.cosh((1 + 1j) * d_x)\n",
        "print(d_z)\n",
        "\n",
        "d_z     = pycuda.cumath.tanh((1 + 1j) * d_x)\n",
        "print(d_z)\n",
        "\n",
        "d_z     = pycuda.cumath.exp((1 + 1j) * d_x)\n",
        "print(d_z)\n",
        "\n",
        "d_z     = pycuda.cumath.log((1 + 1j) * d_x)\n",
        "print(d_z)\n",
        "\n",
        "d_z     = pycuda.cumath.sqrt((1 + 1j) * d_x)\n",
        "print(d_z)"
      ],
      "metadata": {
        "colab": {
          "base_uri": "https://localhost:8080/"
        },
        "id": "m99DX97iXOXM",
        "outputId": "f49f956f-719e-4371-f6c4-7ca452e3a4cc"
      },
      "execution_count": 24,
      "outputs": [
        {
          "output_type": "stream",
          "name": "stdout",
          "text": [
            "[[1.2984576+0.63496387j 1.2984576+0.63496387j 1.2984576+0.63496387j ...\n",
            "  1.2984576+0.63496387j 1.2984576+0.63496387j 1.2984576+0.63496387j]\n",
            " [1.2984576+0.63496387j 1.2984576+0.63496387j 1.2984576+0.63496387j ...\n",
            "  1.2984576+0.63496387j 1.2984576+0.63496387j 1.2984576+0.63496387j]\n",
            " [1.2984576+0.63496387j 1.2984576+0.63496387j 1.2984576+0.63496387j ...\n",
            "  1.2984576+0.63496387j 1.2984576+0.63496387j 1.2984576+0.63496387j]\n",
            " ...\n",
            " [1.2984576+0.63496387j 1.2984576+0.63496387j 1.2984576+0.63496387j ...\n",
            "  1.2984576+0.63496387j 1.2984576+0.63496387j 1.2984576+0.63496387j]\n",
            " [1.2984576+0.63496387j 1.2984576+0.63496387j 1.2984576+0.63496387j ...\n",
            "  1.2984576+0.63496387j 1.2984576+0.63496387j 1.2984576+0.63496387j]\n",
            " [1.2984576+0.63496387j 1.2984576+0.63496387j 1.2984576+0.63496387j ...\n",
            "  1.2984576+0.63496387j 1.2984576+0.63496387j 1.2984576+0.63496387j]]\n",
            "[[0.8337299-0.98889774j 0.8337299-0.98889774j 0.8337299-0.98889774j ...\n",
            "  0.8337299-0.98889774j 0.8337299-0.98889774j 0.8337299-0.98889774j]\n",
            " [0.8337299-0.98889774j 0.8337299-0.98889774j 0.8337299-0.98889774j ...\n",
            "  0.8337299-0.98889774j 0.8337299-0.98889774j 0.8337299-0.98889774j]\n",
            " [0.8337299-0.98889774j 0.8337299-0.98889774j 0.8337299-0.98889774j ...\n",
            "  0.8337299-0.98889774j 0.8337299-0.98889774j 0.8337299-0.98889774j]\n",
            " ...\n",
            " [0.8337299-0.98889774j 0.8337299-0.98889774j 0.8337299-0.98889774j ...\n",
            "  0.8337299-0.98889774j 0.8337299-0.98889774j 0.8337299-0.98889774j]\n",
            " [0.8337299-0.98889774j 0.8337299-0.98889774j 0.8337299-0.98889774j ...\n",
            "  0.8337299-0.98889774j 0.8337299-0.98889774j 0.8337299-0.98889774j]\n",
            " [0.8337299-0.98889774j 0.8337299-0.98889774j 0.8337299-0.98889774j ...\n",
            "  0.8337299-0.98889774j 0.8337299-0.98889774j 0.8337299-0.98889774j]]\n",
            "[[0.27175257+1.0839232j 0.27175257+1.0839232j 0.27175257+1.0839232j ...\n",
            "  0.27175257+1.0839232j 0.27175257+1.0839232j 0.27175257+1.0839232j]\n",
            " [0.27175257+1.0839232j 0.27175257+1.0839232j 0.27175257+1.0839232j ...\n",
            "  0.27175257+1.0839232j 0.27175257+1.0839232j 0.27175257+1.0839232j]\n",
            " [0.27175257+1.0839232j 0.27175257+1.0839232j 0.27175257+1.0839232j ...\n",
            "  0.27175257+1.0839232j 0.27175257+1.0839232j 0.27175257+1.0839232j]\n",
            " ...\n",
            " [0.27175257+1.0839232j 0.27175257+1.0839232j 0.27175257+1.0839232j ...\n",
            "  0.27175257+1.0839232j 0.27175257+1.0839232j 0.27175257+1.0839232j]\n",
            " [0.27175257+1.0839232j 0.27175257+1.0839232j 0.27175257+1.0839232j ...\n",
            "  0.27175257+1.0839232j 0.27175257+1.0839232j 0.27175257+1.0839232j]\n",
            " [0.27175257+1.0839232j 0.27175257+1.0839232j 0.27175257+1.0839232j ...\n",
            "  0.27175257+1.0839232j 0.27175257+1.0839232j 0.27175257+1.0839232j]]\n",
            "[[0.63496387+1.2984576j 0.63496387+1.2984576j 0.63496387+1.2984576j ...\n",
            "  0.63496387+1.2984576j 0.63496387+1.2984576j 0.63496387+1.2984576j]\n",
            " [0.63496387+1.2984576j 0.63496387+1.2984576j 0.63496387+1.2984576j ...\n",
            "  0.63496387+1.2984576j 0.63496387+1.2984576j 0.63496387+1.2984576j]\n",
            " [0.63496387+1.2984576j 0.63496387+1.2984576j 0.63496387+1.2984576j ...\n",
            "  0.63496387+1.2984576j 0.63496387+1.2984576j 0.63496387+1.2984576j]\n",
            " ...\n",
            " [0.63496387+1.2984576j 0.63496387+1.2984576j 0.63496387+1.2984576j ...\n",
            "  0.63496387+1.2984576j 0.63496387+1.2984576j 0.63496387+1.2984576j]\n",
            " [0.63496387+1.2984576j 0.63496387+1.2984576j 0.63496387+1.2984576j ...\n",
            "  0.63496387+1.2984576j 0.63496387+1.2984576j 0.63496387+1.2984576j]\n",
            " [0.63496387+1.2984576j 0.63496387+1.2984576j 0.63496387+1.2984576j ...\n",
            "  0.63496387+1.2984576j 0.63496387+1.2984576j 0.63496387+1.2984576j]]\n",
            "[[0.8337299+0.98889774j 0.8337299+0.98889774j 0.8337299+0.98889774j ...\n",
            "  0.8337299+0.98889774j 0.8337299+0.98889774j 0.8337299+0.98889774j]\n",
            " [0.8337299+0.98889774j 0.8337299+0.98889774j 0.8337299+0.98889774j ...\n",
            "  0.8337299+0.98889774j 0.8337299+0.98889774j 0.8337299+0.98889774j]\n",
            " [0.8337299+0.98889774j 0.8337299+0.98889774j 0.8337299+0.98889774j ...\n",
            "  0.8337299+0.98889774j 0.8337299+0.98889774j 0.8337299+0.98889774j]\n",
            " ...\n",
            " [0.8337299+0.98889774j 0.8337299+0.98889774j 0.8337299+0.98889774j ...\n",
            "  0.8337299+0.98889774j 0.8337299+0.98889774j 0.8337299+0.98889774j]\n",
            " [0.8337299+0.98889774j 0.8337299+0.98889774j 0.8337299+0.98889774j ...\n",
            "  0.8337299+0.98889774j 0.8337299+0.98889774j 0.8337299+0.98889774j]\n",
            " [0.8337299+0.98889774j 0.8337299+0.98889774j 0.8337299+0.98889774j ...\n",
            "  0.8337299+0.98889774j 0.8337299+0.98889774j 0.8337299+0.98889774j]]\n",
            "[[1.0839232+0.27175257j 1.0839232+0.27175257j 1.0839232+0.27175257j ...\n",
            "  1.0839232+0.27175257j 1.0839232+0.27175257j 1.0839232+0.27175257j]\n",
            " [1.0839232+0.27175257j 1.0839232+0.27175257j 1.0839232+0.27175257j ...\n",
            "  1.0839232+0.27175257j 1.0839232+0.27175257j 1.0839232+0.27175257j]\n",
            " [1.0839232+0.27175257j 1.0839232+0.27175257j 1.0839232+0.27175257j ...\n",
            "  1.0839232+0.27175257j 1.0839232+0.27175257j 1.0839232+0.27175257j]\n",
            " ...\n",
            " [1.0839232+0.27175257j 1.0839232+0.27175257j 1.0839232+0.27175257j ...\n",
            "  1.0839232+0.27175257j 1.0839232+0.27175257j 1.0839232+0.27175257j]\n",
            " [1.0839232+0.27175257j 1.0839232+0.27175257j 1.0839232+0.27175257j ...\n",
            "  1.0839232+0.27175257j 1.0839232+0.27175257j 1.0839232+0.27175257j]\n",
            " [1.0839232+0.27175257j 1.0839232+0.27175257j 1.0839232+0.27175257j ...\n",
            "  1.0839232+0.27175257j 1.0839232+0.27175257j 1.0839232+0.27175257j]]\n",
            "[[1.4686939+2.2873552j 1.4686939+2.2873552j 1.4686939+2.2873552j ...\n",
            "  1.4686939+2.2873552j 1.4686939+2.2873552j 1.4686939+2.2873552j]\n",
            " [1.4686939+2.2873552j 1.4686939+2.2873552j 1.4686939+2.2873552j ...\n",
            "  1.4686939+2.2873552j 1.4686939+2.2873552j 1.4686939+2.2873552j]\n",
            " [1.4686939+2.2873552j 1.4686939+2.2873552j 1.4686939+2.2873552j ...\n",
            "  1.4686939+2.2873552j 1.4686939+2.2873552j 1.4686939+2.2873552j]\n",
            " ...\n",
            " [1.4686939+2.2873552j 1.4686939+2.2873552j 1.4686939+2.2873552j ...\n",
            "  1.4686939+2.2873552j 1.4686939+2.2873552j 1.4686939+2.2873552j]\n",
            " [1.4686939+2.2873552j 1.4686939+2.2873552j 1.4686939+2.2873552j ...\n",
            "  1.4686939+2.2873552j 1.4686939+2.2873552j 1.4686939+2.2873552j]\n",
            " [1.4686939+2.2873552j 1.4686939+2.2873552j 1.4686939+2.2873552j ...\n",
            "  1.4686939+2.2873552j 1.4686939+2.2873552j 1.4686939+2.2873552j]]\n",
            "[[0.34657356+0.7853982j 0.34657356+0.7853982j 0.34657356+0.7853982j ...\n",
            "  0.34657356+0.7853982j 0.34657356+0.7853982j 0.34657356+0.7853982j]\n",
            " [0.34657356+0.7853982j 0.34657356+0.7853982j 0.34657356+0.7853982j ...\n",
            "  0.34657356+0.7853982j 0.34657356+0.7853982j 0.34657356+0.7853982j]\n",
            " [0.34657356+0.7853982j 0.34657356+0.7853982j 0.34657356+0.7853982j ...\n",
            "  0.34657356+0.7853982j 0.34657356+0.7853982j 0.34657356+0.7853982j]\n",
            " ...\n",
            " [0.34657356+0.7853982j 0.34657356+0.7853982j 0.34657356+0.7853982j ...\n",
            "  0.34657356+0.7853982j 0.34657356+0.7853982j 0.34657356+0.7853982j]\n",
            " [0.34657356+0.7853982j 0.34657356+0.7853982j 0.34657356+0.7853982j ...\n",
            "  0.34657356+0.7853982j 0.34657356+0.7853982j 0.34657356+0.7853982j]\n",
            " [0.34657356+0.7853982j 0.34657356+0.7853982j 0.34657356+0.7853982j ...\n",
            "  0.34657356+0.7853982j 0.34657356+0.7853982j 0.34657356+0.7853982j]]\n",
            "[[1.0986842+0.45508984j 1.0986842+0.45508984j 1.0986842+0.45508984j ...\n",
            "  1.0986842+0.45508984j 1.0986842+0.45508984j 1.0986842+0.45508984j]\n",
            " [1.0986842+0.45508984j 1.0986842+0.45508984j 1.0986842+0.45508984j ...\n",
            "  1.0986842+0.45508984j 1.0986842+0.45508984j 1.0986842+0.45508984j]\n",
            " [1.0986842+0.45508984j 1.0986842+0.45508984j 1.0986842+0.45508984j ...\n",
            "  1.0986842+0.45508984j 1.0986842+0.45508984j 1.0986842+0.45508984j]\n",
            " ...\n",
            " [1.0986842+0.45508984j 1.0986842+0.45508984j 1.0986842+0.45508984j ...\n",
            "  1.0986842+0.45508984j 1.0986842+0.45508984j 1.0986842+0.45508984j]\n",
            " [1.0986842+0.45508984j 1.0986842+0.45508984j 1.0986842+0.45508984j ...\n",
            "  1.0986842+0.45508984j 1.0986842+0.45508984j 1.0986842+0.45508984j]\n",
            " [1.0986842+0.45508984j 1.0986842+0.45508984j 1.0986842+0.45508984j ...\n",
            "  1.0986842+0.45508984j 1.0986842+0.45508984j 1.0986842+0.45508984j]]\n"
          ]
        }
      ]
    },
    {
      "cell_type": "markdown",
      "source": [
        "Other mathematical operations defined on real arrays."
      ],
      "metadata": {
        "id": "u0Tf9GcLW9zn"
      }
    },
    {
      "cell_type": "code",
      "source": [
        "d_z     = pycuda.cumath.asin(d_x)\n",
        "print(d_z)\n",
        "\n",
        "d_z     = pycuda.cumath.acos(d_x)\n",
        "print(d_z)\n",
        "\n",
        "d_z     = pycuda.cumath.atan(d_x)\n",
        "print(d_z)\n",
        "\n",
        "d_z     = pycuda.cumath.log10(d_x)\n",
        "print(d_z)\n",
        "\n",
        "d_z     = pycuda.cumath.fabs(-d_x)\n",
        "print(d_z)\n",
        "\n",
        "d_z     = pycuda.cumath.ceil(1.6 * d_x)\n",
        "print(d_z)\n",
        "\n",
        "d_z     = pycuda.cumath.floor(1.1 * d_x)\n",
        "print(d_z)"
      ],
      "metadata": {
        "colab": {
          "base_uri": "https://localhost:8080/"
        },
        "id": "2Bi3lHtfW7_J",
        "outputId": "71c59087-a602-41f3-8296-a2041567d9dc"
      },
      "execution_count": 25,
      "outputs": [
        {
          "output_type": "stream",
          "name": "stdout",
          "text": [
            "[[1.5707964 1.5707964 1.5707964 ... 1.5707964 1.5707964 1.5707964]\n",
            " [1.5707964 1.5707964 1.5707964 ... 1.5707964 1.5707964 1.5707964]\n",
            " [1.5707964 1.5707964 1.5707964 ... 1.5707964 1.5707964 1.5707964]\n",
            " ...\n",
            " [1.5707964 1.5707964 1.5707964 ... 1.5707964 1.5707964 1.5707964]\n",
            " [1.5707964 1.5707964 1.5707964 ... 1.5707964 1.5707964 1.5707964]\n",
            " [1.5707964 1.5707964 1.5707964 ... 1.5707964 1.5707964 1.5707964]]\n",
            "[[0. 0. 0. ... 0. 0. 0.]\n",
            " [0. 0. 0. ... 0. 0. 0.]\n",
            " [0. 0. 0. ... 0. 0. 0.]\n",
            " ...\n",
            " [0. 0. 0. ... 0. 0. 0.]\n",
            " [0. 0. 0. ... 0. 0. 0.]\n",
            " [0. 0. 0. ... 0. 0. 0.]]\n",
            "[[0.7853982 0.7853982 0.7853982 ... 0.7853982 0.7853982 0.7853982]\n",
            " [0.7853982 0.7853982 0.7853982 ... 0.7853982 0.7853982 0.7853982]\n",
            " [0.7853982 0.7853982 0.7853982 ... 0.7853982 0.7853982 0.7853982]\n",
            " ...\n",
            " [0.7853982 0.7853982 0.7853982 ... 0.7853982 0.7853982 0.7853982]\n",
            " [0.7853982 0.7853982 0.7853982 ... 0.7853982 0.7853982 0.7853982]\n",
            " [0.7853982 0.7853982 0.7853982 ... 0.7853982 0.7853982 0.7853982]]\n",
            "[[0. 0. 0. ... 0. 0. 0.]\n",
            " [0. 0. 0. ... 0. 0. 0.]\n",
            " [0. 0. 0. ... 0. 0. 0.]\n",
            " ...\n",
            " [0. 0. 0. ... 0. 0. 0.]\n",
            " [0. 0. 0. ... 0. 0. 0.]\n",
            " [0. 0. 0. ... 0. 0. 0.]]\n",
            "[[1. 1. 1. ... 1. 1. 1.]\n",
            " [1. 1. 1. ... 1. 1. 1.]\n",
            " [1. 1. 1. ... 1. 1. 1.]\n",
            " ...\n",
            " [1. 1. 1. ... 1. 1. 1.]\n",
            " [1. 1. 1. ... 1. 1. 1.]\n",
            " [1. 1. 1. ... 1. 1. 1.]]\n",
            "[[2. 2. 2. ... 2. 2. 2.]\n",
            " [2. 2. 2. ... 2. 2. 2.]\n",
            " [2. 2. 2. ... 2. 2. 2.]\n",
            " ...\n",
            " [2. 2. 2. ... 2. 2. 2.]\n",
            " [2. 2. 2. ... 2. 2. 2.]\n",
            " [2. 2. 2. ... 2. 2. 2.]]\n",
            "[[1. 1. 1. ... 1. 1. 1.]\n",
            " [1. 1. 1. ... 1. 1. 1.]\n",
            " [1. 1. 1. ... 1. 1. 1.]\n",
            " ...\n",
            " [1. 1. 1. ... 1. 1. 1.]\n",
            " [1. 1. 1. ... 1. 1. 1.]\n",
            " [1. 1. 1. ... 1. 1. 1.]]\n"
          ]
        }
      ]
    },
    {
      "cell_type": "markdown",
      "source": [
        "Conditional operations"
      ],
      "metadata": {
        "id": "vGZHIRXRZgOd"
      }
    },
    {
      "cell_type": "code",
      "source": [
        "h_x = np.zeros((5, 1), dtype = np.float32)\n",
        "h_x[0] = 11\n",
        "h_x[1] = -4\n",
        "h_x[2] = 77\n",
        "h_x[3] = -14\n",
        "h_x[4] = 0\n",
        "\n",
        "h_y = np.zeros((5, 1), dtype = np.float32)\n",
        "h_y[0] = 12.3\n",
        "h_y[1] = 11.4\n",
        "h_y[2] = -7\n",
        "h_y[3] = 0\n",
        "h_y[4] = 12\n",
        "\n",
        "d_x = pycuda.gpuarray.to_gpu(h_x)\n",
        "d_y = pycuda.gpuarray.to_gpu(h_y)\n",
        "\n",
        "d_h = pycuda.gpuarray.if_positive(d_x - d_y, d_x, d_y)\n",
        "print(d_h)\n",
        "\n",
        "d_h = pycuda.gpuarray.maximum(d_x, d_y)\n",
        "print(d_h)\n",
        "\n",
        "d_h = pycuda.gpuarray.minimum(d_x, d_y)\n",
        "print(d_h)"
      ],
      "metadata": {
        "colab": {
          "base_uri": "https://localhost:8080/"
        },
        "id": "MFRaT1NBZiEs",
        "outputId": "c3a17bdd-d4b2-4e86-e00a-85ccafbdb4de"
      },
      "execution_count": 26,
      "outputs": [
        {
          "output_type": "stream",
          "name": "stdout",
          "text": [
            "[[12.3]\n",
            " [11.4]\n",
            " [77. ]\n",
            " [ 0. ]\n",
            " [12. ]]\n",
            "[[12.3]\n",
            " [11.4]\n",
            " [77. ]\n",
            " [ 0. ]\n",
            " [12. ]]\n",
            "[[ 11.]\n",
            " [ -4.]\n",
            " [ -7.]\n",
            " [-14.]\n",
            " [  0.]]\n"
          ]
        }
      ]
    },
    {
      "cell_type": "markdown",
      "source": [
        "Reductions."
      ],
      "metadata": {
        "id": "K4qY7qS-htnf"
      }
    },
    {
      "cell_type": "code",
      "source": [
        "d_red = pycuda.gpuarray.sum(d_x)\n",
        "print(d_red)\n",
        "\n",
        "d_red = pycuda.gpuarray.max(d_x)\n",
        "print(d_red)\n",
        "\n",
        "d_red = pycuda.gpuarray.min(d_x)\n",
        "print(d_red)\n",
        "\n",
        "d_red = pycuda.gpuarray.dot(d_x, d_y)\n",
        "print(d_red)\n",
        "\n",
        "h_index = np.zeros((3, 1), dtype = np.int32)\n",
        "h_index[0] = 0\n",
        "h_index[1] = 3\n",
        "h_index[2] = 4\n",
        "d_index = pycuda.gpuarray.to_gpu(h_index)\n",
        "\n",
        "d_red = pycuda.gpuarray.subset_sum(d_index, d_x)\n",
        "print(d_red)\n",
        "\n",
        "d_red = pycuda.gpuarray.subset_max(d_index, d_x)\n",
        "print(d_red)\n",
        "\n",
        "d_red = pycuda.gpuarray.subset_min(d_index, d_x)\n",
        "print(d_red)\n",
        "\n",
        "d_red = pycuda.gpuarray.subset_dot(d_index, d_x, d_y)\n",
        "print(d_red)\n",
        "\n",
        "d_x = 1j * d_x\n",
        "d_red = pycuda.gpuarray.dot(d_x, d_x)\n",
        "print(d_red)"
      ],
      "metadata": {
        "colab": {
          "base_uri": "https://localhost:8080/"
        },
        "id": "zsOzB9mkhvBX",
        "outputId": "4a0a9c7f-9ecf-4ebd-eafc-399f1fe7504b"
      },
      "execution_count": 28,
      "outputs": [
        {
          "output_type": "stream",
          "name": "stdout",
          "text": [
            "70.0\n",
            "77.0\n",
            "-14.0\n",
            "-449.30002\n",
            "-3.0\n",
            "11.0\n",
            "-14.0\n",
            "135.3\n",
            "(-6262+0j)\n"
          ]
        }
      ]
    },
    {
      "cell_type": "markdown",
      "source": [
        "Array scrambling."
      ],
      "metadata": {
        "id": "VEIY8RcCnX5j"
      }
    },
    {
      "cell_type": "code",
      "source": [
        "h_x = np.zeros((5, 1), dtype = np.complex64)\n",
        "h_x[0] = 11\n",
        "h_x[1] = -4\n",
        "h_x[2] = 77\n",
        "h_x[3] = -14\n",
        "h_x[4] = 0\n",
        "d_x = pycuda.gpuarray.to_gpu(h_x)\n",
        "\n",
        "h_index = np.zeros((3, ), dtype = np.int32)\n",
        "h_index[0] = 3\n",
        "h_index[1] = 4\n",
        "h_index[2] = 0\n",
        "d_index = pycuda.gpuarray.to_gpu(h_index)\n",
        "\n",
        "d_x = pycuda.gpuarray.take(d_x, d_index)\n",
        "print(d_x)"
      ],
      "metadata": {
        "colab": {
          "base_uri": "https://localhost:8080/"
        },
        "id": "rI1jJqIfnZ41",
        "outputId": "0b25448e-39ce-4b1f-ee45-d056911a555e"
      },
      "execution_count": 15,
      "outputs": [
        {
          "output_type": "stream",
          "name": "stdout",
          "text": [
            "[-14.+0.j   0.+0.j  11.+0.j]\n"
          ]
        }
      ]
    },
    {
      "cell_type": "markdown",
      "source": [
        "Casting and shape manipulations."
      ],
      "metadata": {
        "id": "ODWFb7GYvDLx"
      }
    },
    {
      "cell_type": "code",
      "source": [
        "h_x = np.zeros((5, 1), dtype = np.float32)\n",
        "h_x[0] = 11.2\n",
        "h_x[1] = -4.3\n",
        "h_x[2] = 77.6\n",
        "h_x[3] = -14.1\n",
        "h_x[4] = 0.4\n",
        "d_x = pycuda.gpuarray.to_gpu(h_x)\n",
        "\n",
        "d_x = d_x.astype(np.int32)\n",
        "print(d_x)"
      ],
      "metadata": {
        "colab": {
          "base_uri": "https://localhost:8080/"
        },
        "id": "CljH0IcKvFg9",
        "outputId": "68f01576-accb-4e69-b3b8-63642e0dad07"
      },
      "execution_count": 16,
      "outputs": [
        {
          "output_type": "stream",
          "name": "stdout",
          "text": [
            "[[ 11]\n",
            " [ -4]\n",
            " [ 77]\n",
            " [-14]\n",
            " [  0]]\n"
          ]
        }
      ]
    },
    {
      "cell_type": "code",
      "source": [
        "h_x = np.zeros((8, 1), dtype = np.float32)\n",
        "h_x[0] = 11.2\n",
        "h_x[1] = -4.3\n",
        "h_x[2] = 77.6\n",
        "h_x[3] = -14.1\n",
        "h_x[4] = 0.4\n",
        "h_x[5] = 0.6\n",
        "h_x[6] = -20\n",
        "h_x[7] = -12.4\n",
        "d_x = pycuda.gpuarray.to_gpu(h_x)\n",
        "\n",
        "d_x = d_x.reshape((2, 4))\n",
        "print(d_x)"
      ],
      "metadata": {
        "colab": {
          "base_uri": "https://localhost:8080/"
        },
        "id": "HENLM1yffmUt",
        "outputId": "d1b90696-7a79-41fb-a958-d1aedfcd7a38"
      },
      "execution_count": 17,
      "outputs": [
        {
          "output_type": "stream",
          "name": "stdout",
          "text": [
            "[[ 11.2  -4.3  77.6 -14.1]\n",
            " [  0.4   0.6 -20.  -12.4]]\n"
          ]
        }
      ]
    },
    {
      "cell_type": "code",
      "source": [
        "d_x = d_x.ravel()\n",
        "print(d_x)"
      ],
      "metadata": {
        "colab": {
          "base_uri": "https://localhost:8080/"
        },
        "id": "EzrXVVOXgwgF",
        "outputId": "4ee3ee34-81d8-4657-a95e-4ef29658dd03"
      },
      "execution_count": 18,
      "outputs": [
        {
          "output_type": "stream",
          "name": "stdout",
          "text": [
            "[ 11.2  -4.3  77.6 -14.1   0.4   0.6 -20.  -12.4]\n"
          ]
        }
      ]
    },
    {
      "cell_type": "code",
      "source": [
        "h_x = np.zeros((2, 4, 1), dtype = np.float32)\n",
        "h_x[0, 0, 0] = 11.2\n",
        "h_x[1, 0, 0] = -4.3\n",
        "h_x[0, 1, 0] = 77.6\n",
        "h_x[1, 1, 0] = -14.1\n",
        "h_x[0, 2, 0] = 0.4\n",
        "h_x[1, 2, 0] = 0.6\n",
        "h_x[0, 3, 0] = -20\n",
        "h_x[1, 3, 0] = -12.4\n",
        "d_x = pycuda.gpuarray.to_gpu(h_x)\n",
        "print(d_x[:, :, :])\n",
        "\n",
        "d_x = d_x.squeeze()\n",
        "print(d_x)"
      ],
      "metadata": {
        "colab": {
          "base_uri": "https://localhost:8080/"
        },
        "id": "f6vZGTbMhRPS",
        "outputId": "53774fca-df31-4673-be26-a6980d48e270"
      },
      "execution_count": 19,
      "outputs": [
        {
          "output_type": "stream",
          "name": "stdout",
          "text": [
            "[[[ 11.2]\n",
            "  [ 77.6]\n",
            "  [  0.4]\n",
            "  [-20. ]]\n",
            "\n",
            " [[ -4.3]\n",
            "  [-14.1]\n",
            "  [  0.6]\n",
            "  [-12.4]]]\n",
            "[[ 11.2  77.6   0.4 -20. ]\n",
            " [ -4.3 -14.1   0.6 -12.4]]\n"
          ]
        }
      ]
    },
    {
      "cell_type": "markdown",
      "source": [
        "Other floating point operations."
      ],
      "metadata": {
        "id": "MW9m_lTp6Lrq"
      }
    },
    {
      "cell_type": "code",
      "source": [
        "d_x = 1. + gpuarray.zeros((5, 1), np.float32)\n",
        "d_y = 2. + gpuarray.zeros((5, 1), np.float32)\n",
        "\n",
        "d_z = pycuda.cumath.fmod(d_x, d_y)\n",
        "print(d_z)\n",
        "\n",
        "d_z = pycuda.cumath.modf(d_x)\n",
        "print(d_z)"
      ],
      "metadata": {
        "colab": {
          "base_uri": "https://localhost:8080/"
        },
        "id": "80a-B7dM6OBG",
        "outputId": "551043fc-aafa-49c5-a41d-b586a4f9d1d3"
      },
      "execution_count": 39,
      "outputs": [
        {
          "output_type": "stream",
          "name": "stdout",
          "text": [
            "[[1.]\n",
            " [1.]\n",
            " [1.]\n",
            " [1.]\n",
            " [1.]]\n",
            "(array([[0.],\n",
            "       [0.],\n",
            "       [0.],\n",
            "       [0.],\n",
            "       [0.]], dtype=float32), array([[1.],\n",
            "       [1.],\n",
            "       [1.],\n",
            "       [1.],\n",
            "       [1.]], dtype=float32))\n"
          ]
        }
      ]
    },
    {
      "cell_type": "markdown",
      "source": [
        "Array information."
      ],
      "metadata": {
        "id": "xl6JPZ99ijo1"
      }
    },
    {
      "cell_type": "code",
      "source": [
        "print('Shape (dimensions, Matlab''s size)                : ', d_z.shape)\n",
        "print('Type                                              : ', d_z.dtype)\n",
        "print('Size (total number of elements)                   : ', d_z.size)\n",
        "print('Size (total number of elements including padding) : ', d_z.mem_size)\n",
        "print('Number of bytes                                   : ', d_z.nbytes)\n",
        "print('Strides                                           : ', d_z.strides)\n",
        "print('Array pointer                                     : ', d_z.ptr)\n",
        "print('Row major?                                        : ', d_z.flags.c_contiguous)\n",
        "print('Column major?                                     : ', d_z.flags.f_contiguous)\n",
        "print('Any contiguity?                                   : ', d_z.flags.forc)\n",
        "print(d_z.__cuda_array_interface__)\n",
        "\n",
        "h_x = np.zeros((2, 4), dtype = np.float32)\n",
        "h_x[0, 0] = 11.2\n",
        "h_x[1, 0] = -4.3\n",
        "h_x[0, 1] = 77.6\n",
        "h_x[1, 1] = -14.1\n",
        "h_x[0, 2] = 0.4\n",
        "h_x[1, 2] = 0.6\n",
        "h_x[0, 3] = -20\n",
        "h_x[1, 3] = -12.4\n",
        "d_x = pycuda.gpuarray.to_gpu(h_x)\n",
        "print(d_x[1, 1 : 3])"
      ],
      "metadata": {
        "id": "VR2sEEs4imsz",
        "colab": {
          "base_uri": "https://localhost:8080/"
        },
        "outputId": "6baf30fe-e2aa-44e4-9aa5-82c0440e50b2"
      },
      "execution_count": 30,
      "outputs": [
        {
          "output_type": "stream",
          "name": "stdout",
          "text": [
            "Shape (dimensions, Matlabs size)                :  (32, 32)\n",
            "Type                                              :  float32\n",
            "Size (total number of elements)                   :  1024\n",
            "View                     :  [[1. 1. 1. ... 1. 1. 1.]\n",
            " [1. 1. 1. ... 1. 1. 1.]\n",
            " [1. 1. 1. ... 1. 1. 1.]\n",
            " ...\n",
            " [1. 1. 1. ... 1. 1. 1.]\n",
            " [1. 1. 1. ... 1. 1. 1.]\n",
            " [1. 1. 1. ... 1. 1. 1.]]\n",
            "Size (total number of elements including padding) :  1024\n",
            "Number of bytes                                   :  4096\n",
            "Strides                                           :  (128, 4)\n",
            "Array pointer                                     :  140106782705664\n",
            "Row major?                                        :  True\n",
            "Column major?                                     :  False\n",
            "Any contiguity?                                   :  True\n",
            "{'shape': (32, 32), 'strides': (128, 4), 'data': (140106782705664, False), 'typestr': '<f4', 'stream': None, 'version': 3}\n",
            "[-14.1   0.6]\n"
          ]
        }
      ]
    }
  ]
}
